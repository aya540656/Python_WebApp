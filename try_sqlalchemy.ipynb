{
 "cells": [
  {
   "cell_type": "code",
   "execution_count": 30,
   "metadata": {},
   "outputs": [],
   "source": [
    "from sqlalchemy import create_engine\n",
    "from sqlalchemy.orm import Session\n",
    "from test_model import Person"
   ]
  },
  {
   "cell_type": "code",
   "execution_count": 31,
   "metadata": {},
   "outputs": [],
   "source": [
    "engine = create_engine('sqlite:///test_db', echo=True)\n",
    "session = Session(engine)"
   ]
  },
  {
   "cell_type": "code",
   "execution_count": 22,
   "metadata": {},
   "outputs": [
    {
     "name": "stdout",
     "output_type": "stream",
     "text": [
      "2023-10-14 13:21:14,537 INFO sqlalchemy.engine.Engine BEGIN (implicit)\n",
      "2023-10-14 13:21:14,540 INFO sqlalchemy.engine.Engine SELECT person.id AS person_id, person.name AS person_name, person.size AS person_size \n",
      "FROM person\n",
      "2023-10-14 13:21:14,541 INFO sqlalchemy.engine.Engine [generated in 0.00110s] ()\n"
     ]
    }
   ],
   "source": [
    "persons = session.query(Person).all()"
   ]
  },
  {
   "cell_type": "code",
   "execution_count": 23,
   "metadata": {},
   "outputs": [
    {
     "name": "stdout",
     "output_type": "stream",
     "text": [
      "1 name:changed_name size:10.5\n",
      "2 name:name_b size:None\n",
      "3 name:name_c size:3.14\n",
      "4 name:name_d size:2.0\n",
      "100 name:name_z size:99.9\n"
     ]
    }
   ],
   "source": [
    "for person in persons:\n",
    "    print(f'{person.id} name:{person.name} size:{person.size}')"
   ]
  },
  {
   "cell_type": "code",
   "execution_count": 24,
   "metadata": {},
   "outputs": [],
   "source": [
    "new_person = Person(id=5, name='from_model', size=100)\n",
    "session.add(new_person)"
   ]
  },
  {
   "cell_type": "code",
   "execution_count": 25,
   "metadata": {},
   "outputs": [
    {
     "name": "stdout",
     "output_type": "stream",
     "text": [
      "1 name:changed_name size:10.5\n",
      "2 name:name_b size:None\n",
      "3 name:name_c size:3.14\n",
      "4 name:name_d size:2.0\n",
      "100 name:name_z size:99.9\n"
     ]
    }
   ],
   "source": [
    "for person in persons:\n",
    "    print(f'{person.id} name:{person.name} size:{person.size}')"
   ]
  },
  {
   "cell_type": "code",
   "execution_count": 32,
   "metadata": {},
   "outputs": [],
   "source": [
    "new_person = Person(id=5, name='from_model', size=100)\n",
    "session.add(new_person)"
   ]
  },
  {
   "cell_type": "code",
   "execution_count": 33,
   "metadata": {},
   "outputs": [
    {
     "name": "stdout",
     "output_type": "stream",
     "text": [
      "2023-10-14 13:25:46,825 INFO sqlalchemy.engine.Engine BEGIN (implicit)\n",
      "2023-10-14 13:25:46,827 INFO sqlalchemy.engine.Engine INSERT INTO person (id, name, size) VALUES (?, ?, ?)\n",
      "2023-10-14 13:25:46,828 INFO sqlalchemy.engine.Engine [generated in 0.00127s] (5, 'from_model', 100.0)\n",
      "2023-10-14 13:25:46,831 INFO sqlalchemy.engine.Engine COMMIT\n"
     ]
    }
   ],
   "source": [
    "session.commit()"
   ]
  },
  {
   "cell_type": "code",
   "execution_count": 34,
   "metadata": {},
   "outputs": [
    {
     "name": "stdout",
     "output_type": "stream",
     "text": [
      "2023-10-14 13:27:13,394 INFO sqlalchemy.engine.Engine BEGIN (implicit)\n",
      "2023-10-14 13:27:13,396 INFO sqlalchemy.engine.Engine SELECT person.id AS person_id, person.name AS person_name, person.size AS person_size \n",
      "FROM person\n",
      "2023-10-14 13:27:13,397 INFO sqlalchemy.engine.Engine [generated in 0.00104s] ()\n",
      "{'_sa_instance_state': <sqlalchemy.orm.state.InstanceState object at 0x7fce937aa860>, 'id': 1, 'name': 'changed_name', 'size': 10.5}\n",
      "{'_sa_instance_state': <sqlalchemy.orm.state.InstanceState object at 0x7fce937aa8f0>, 'id': 2, 'name': 'name_b', 'size': None}\n",
      "{'_sa_instance_state': <sqlalchemy.orm.state.InstanceState object at 0x7fce937aaa40>, 'id': 3, 'name': 'name_c', 'size': 3.14}\n",
      "{'_sa_instance_state': <sqlalchemy.orm.state.InstanceState object at 0x7fce937aa9b0>, 'id': 4, 'name': 'name_d', 'size': 2.0}\n",
      "{'_sa_instance_state': <sqlalchemy.orm.state.InstanceState object at 0x7fce937a9a20>, 'id': 5, 'name': 'from_model', 'size': 100.0}\n",
      "{'_sa_instance_state': <sqlalchemy.orm.state.InstanceState object at 0x7fce937aaa70>, 'id': 100, 'name': 'name_z', 'size': 99.9}\n"
     ]
    }
   ],
   "source": [
    "persons = session.query(Person).all()\n",
    "for person in persons:\n",
    "    print(person.__dict__)"
   ]
  },
  {
   "cell_type": "code",
   "execution_count": 35,
   "metadata": {},
   "outputs": [
    {
     "name": "stdout",
     "output_type": "stream",
     "text": [
      "2023-10-14 13:28:17,685 INFO sqlalchemy.engine.Engine SELECT person.id AS person_id, person.name AS person_name, person.size AS person_size \n",
      "FROM person \n",
      "WHERE person.id = ?\n",
      " LIMIT ? OFFSET ?\n",
      "2023-10-14 13:28:17,688 INFO sqlalchemy.engine.Engine [generated in 0.00296s] (4, 1, 0)\n"
     ]
    }
   ],
   "source": [
    "person4 = session.query(Person).filter(Person.id==4).first()"
   ]
  },
  {
   "cell_type": "code",
   "execution_count": 36,
   "metadata": {},
   "outputs": [],
   "source": [
    "person4.size = 2.236"
   ]
  },
  {
   "cell_type": "code",
   "execution_count": 37,
   "metadata": {},
   "outputs": [
    {
     "name": "stdout",
     "output_type": "stream",
     "text": [
      "2023-10-14 13:28:42,759 INFO sqlalchemy.engine.Engine UPDATE person SET size=? WHERE person.id = ?\n",
      "2023-10-14 13:28:42,759 INFO sqlalchemy.engine.Engine [generated in 0.00092s] (2.236, 4)\n",
      "2023-10-14 13:28:42,761 INFO sqlalchemy.engine.Engine COMMIT\n"
     ]
    }
   ],
   "source": [
    "session.commit()"
   ]
  },
  {
   "cell_type": "code",
   "execution_count": 38,
   "metadata": {},
   "outputs": [
    {
     "name": "stdout",
     "output_type": "stream",
     "text": [
      "2023-10-14 13:29:17,186 INFO sqlalchemy.engine.Engine BEGIN (implicit)\n",
      "2023-10-14 13:29:17,187 INFO sqlalchemy.engine.Engine DELETE FROM person WHERE person.size > ?\n",
      "2023-10-14 13:29:17,188 INFO sqlalchemy.engine.Engine [generated in 0.00091s] (10,)\n"
     ]
    },
    {
     "data": {
      "text/plain": [
       "3"
      ]
     },
     "execution_count": 38,
     "metadata": {},
     "output_type": "execute_result"
    }
   ],
   "source": [
    "session.query(Person).filter(Person.size>10).delete()"
   ]
  },
  {
   "cell_type": "code",
   "execution_count": 39,
   "metadata": {},
   "outputs": [
    {
     "name": "stdout",
     "output_type": "stream",
     "text": [
      "2023-10-14 13:29:25,159 INFO sqlalchemy.engine.Engine COMMIT\n"
     ]
    }
   ],
   "source": [
    "session.commit()"
   ]
  },
  {
   "cell_type": "code",
   "execution_count": 40,
   "metadata": {},
   "outputs": [],
   "source": [
    "session.close()"
   ]
  },
  {
   "cell_type": "code",
   "execution_count": null,
   "metadata": {},
   "outputs": [],
   "source": []
  }
 ],
 "metadata": {
  "kernelspec": {
   "display_name": "venv",
   "language": "python",
   "name": "python3"
  },
  "language_info": {
   "codemirror_mode": {
    "name": "ipython",
    "version": 3
   },
   "file_extension": ".py",
   "mimetype": "text/x-python",
   "name": "python",
   "nbconvert_exporter": "python",
   "pygments_lexer": "ipython3",
   "version": "3.10.6"
  },
  "orig_nbformat": 4
 },
 "nbformat": 4,
 "nbformat_minor": 2
}
