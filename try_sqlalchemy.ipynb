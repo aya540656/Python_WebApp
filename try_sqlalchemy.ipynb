{
 "cells": [
  {
   "cell_type": "code",
   "execution_count": 1,
   "metadata": {},
   "outputs": [],
   "source": [
    "from sqlalchemy import create_engine\n",
    "from sqlalchemy.orm import Session\n",
    "from test_model import Person"
   ]
  },
  {
   "cell_type": "code",
   "execution_count": 2,
   "metadata": {},
   "outputs": [],
   "source": [
    "engine = create_engine('sqlite:///test_db', echo=True)\n",
    "session = Session(engine)"
   ]
  },
  {
   "cell_type": "code",
   "execution_count": 3,
   "metadata": {},
   "outputs": [
    {
     "name": "stdout",
     "output_type": "stream",
     "text": [
      "2023-10-07 17:30:39,520 INFO sqlalchemy.engine.Engine BEGIN (implicit)\n",
      "2023-10-07 17:30:39,523 INFO sqlalchemy.engine.Engine SELECT person.id AS person_id, person.name AS person_name, person.size AS person_size \n",
      "FROM person\n",
      "2023-10-07 17:30:39,528 INFO sqlalchemy.engine.Engine [generated in 0.00503s] ()\n"
     ]
    }
   ],
   "source": [
    "persons = session.query(Person).all()"
   ]
  },
  {
   "cell_type": "code",
   "execution_count": 4,
   "metadata": {},
   "outputs": [
    {
     "name": "stdout",
     "output_type": "stream",
     "text": [
      "1 name:changed_name size:10.5\n",
      "2 name:name_b size:None\n",
      "3 name:name_c size:3.14\n",
      "4 name:name_d size:2.0\n",
      "100 name:name_z size:99.9\n"
     ]
    }
   ],
   "source": [
    "for person in persons:\n",
    "    print(f'{person.id} name:{person.name} size:{person.size}')"
   ]
  },
  {
   "cell_type": "code",
   "execution_count": 9,
   "metadata": {},
   "outputs": [],
   "source": [
    "new_person = Person(id=5, name='from_model', size=100)\n",
    "session.add(new_person)"
   ]
  },
  {
   "cell_type": "code",
   "execution_count": 12,
   "metadata": {},
   "outputs": [
    {
     "ename": "PendingRollbackError",
     "evalue": "This Session's transaction has been rolled back due to a previous exception during flush. To begin a new transaction with this Session, first issue Session.rollback(). Original exception was: (sqlite3.IntegrityError) UNIQUE constraint failed: person.id\n[SQL: INSERT INTO person (id, name, size) VALUES (?, ?, ?)]\n[parameters: (4, 'from_model', 100.0)]\n(Background on this error at: https://sqlalche.me/e/14/gkpj) (Background on this error at: https://sqlalche.me/e/14/7s2a)",
     "output_type": "error",
     "traceback": [
      "\u001b[0;31m---------------------------------------------------------------------------\u001b[0m",
      "\u001b[0;31mPendingRollbackError\u001b[0m                      Traceback (most recent call last)",
      "Cell \u001b[0;32mIn[12], line 2\u001b[0m\n\u001b[1;32m      1\u001b[0m \u001b[39mfor\u001b[39;00m person \u001b[39min\u001b[39;00m persons:\n\u001b[0;32m----> 2\u001b[0m     \u001b[39mprint\u001b[39m(\u001b[39mf\u001b[39m\u001b[39m'\u001b[39m\u001b[39m{\u001b[39;00mperson\u001b[39m.\u001b[39;49mid\u001b[39m}\u001b[39;00m\u001b[39m name:\u001b[39m\u001b[39m{\u001b[39;00mperson\u001b[39m.\u001b[39mname\u001b[39m}\u001b[39;00m\u001b[39m size:\u001b[39m\u001b[39m{\u001b[39;00mperson\u001b[39m.\u001b[39msize\u001b[39m}\u001b[39;00m\u001b[39m'\u001b[39m)\n",
      "File \u001b[0;32m~/Python_WebApp/venv/lib/python3.10/site-packages/sqlalchemy/orm/attributes.py:487\u001b[0m, in \u001b[0;36mInstrumentedAttribute.__get__\u001b[0;34m(self, instance, owner)\u001b[0m\n\u001b[1;32m    482\u001b[0m \u001b[39mexcept\u001b[39;00m \u001b[39mAttributeError\u001b[39;00m \u001b[39mas\u001b[39;00m err:\n\u001b[1;32m    483\u001b[0m     util\u001b[39m.\u001b[39mraise_(\n\u001b[1;32m    484\u001b[0m         orm_exc\u001b[39m.\u001b[39mUnmappedInstanceError(instance),\n\u001b[1;32m    485\u001b[0m         replace_context\u001b[39m=\u001b[39merr,\n\u001b[1;32m    486\u001b[0m     )\n\u001b[0;32m--> 487\u001b[0m \u001b[39mreturn\u001b[39;00m \u001b[39mself\u001b[39;49m\u001b[39m.\u001b[39;49mimpl\u001b[39m.\u001b[39;49mget(state, dict_)\n",
      "File \u001b[0;32m~/Python_WebApp/venv/lib/python3.10/site-packages/sqlalchemy/orm/attributes.py:959\u001b[0m, in \u001b[0;36mAttributeImpl.get\u001b[0;34m(self, state, dict_, passive)\u001b[0m\n\u001b[1;32m    956\u001b[0m \u001b[39mif\u001b[39;00m \u001b[39mnot\u001b[39;00m passive \u001b[39m&\u001b[39m CALLABLES_OK:\n\u001b[1;32m    957\u001b[0m     \u001b[39mreturn\u001b[39;00m PASSIVE_NO_RESULT\n\u001b[0;32m--> 959\u001b[0m value \u001b[39m=\u001b[39m \u001b[39mself\u001b[39;49m\u001b[39m.\u001b[39;49m_fire_loader_callables(state, key, passive)\n\u001b[1;32m    961\u001b[0m \u001b[39mif\u001b[39;00m value \u001b[39mis\u001b[39;00m PASSIVE_NO_RESULT \u001b[39mor\u001b[39;00m value \u001b[39mis\u001b[39;00m NO_VALUE:\n\u001b[1;32m    962\u001b[0m     \u001b[39mreturn\u001b[39;00m value\n",
      "File \u001b[0;32m~/Python_WebApp/venv/lib/python3.10/site-packages/sqlalchemy/orm/attributes.py:990\u001b[0m, in \u001b[0;36mAttributeImpl._fire_loader_callables\u001b[0;34m(self, state, key, passive)\u001b[0m\n\u001b[1;32m    984\u001b[0m \u001b[39mdef\u001b[39;00m \u001b[39m_fire_loader_callables\u001b[39m(\u001b[39mself\u001b[39m, state, key, passive):\n\u001b[1;32m    985\u001b[0m     \u001b[39mif\u001b[39;00m (\n\u001b[1;32m    986\u001b[0m         \u001b[39mself\u001b[39m\u001b[39m.\u001b[39maccepts_scalar_loader\n\u001b[1;32m    987\u001b[0m         \u001b[39mand\u001b[39;00m \u001b[39mself\u001b[39m\u001b[39m.\u001b[39mload_on_unexpire\n\u001b[1;32m    988\u001b[0m         \u001b[39mand\u001b[39;00m key \u001b[39min\u001b[39;00m state\u001b[39m.\u001b[39mexpired_attributes\n\u001b[1;32m    989\u001b[0m     ):\n\u001b[0;32m--> 990\u001b[0m         \u001b[39mreturn\u001b[39;00m state\u001b[39m.\u001b[39;49m_load_expired(state, passive)\n\u001b[1;32m    991\u001b[0m     \u001b[39melif\u001b[39;00m key \u001b[39min\u001b[39;00m state\u001b[39m.\u001b[39mcallables:\n\u001b[1;32m    992\u001b[0m         callable_ \u001b[39m=\u001b[39m state\u001b[39m.\u001b[39mcallables[key]\n",
      "File \u001b[0;32m~/Python_WebApp/venv/lib/python3.10/site-packages/sqlalchemy/orm/state.py:712\u001b[0m, in \u001b[0;36mInstanceState._load_expired\u001b[0;34m(self, state, passive)\u001b[0m\n\u001b[1;32m    705\u001b[0m toload \u001b[39m=\u001b[39m \u001b[39mself\u001b[39m\u001b[39m.\u001b[39mexpired_attributes\u001b[39m.\u001b[39mintersection(\u001b[39mself\u001b[39m\u001b[39m.\u001b[39munmodified)\n\u001b[1;32m    706\u001b[0m toload \u001b[39m=\u001b[39m toload\u001b[39m.\u001b[39mdifference(\n\u001b[1;32m    707\u001b[0m     attr\n\u001b[1;32m    708\u001b[0m     \u001b[39mfor\u001b[39;00m attr \u001b[39min\u001b[39;00m toload\n\u001b[1;32m    709\u001b[0m     \u001b[39mif\u001b[39;00m \u001b[39mnot\u001b[39;00m \u001b[39mself\u001b[39m\u001b[39m.\u001b[39mmanager[attr]\u001b[39m.\u001b[39mimpl\u001b[39m.\u001b[39mload_on_unexpire\n\u001b[1;32m    710\u001b[0m )\n\u001b[0;32m--> 712\u001b[0m \u001b[39mself\u001b[39;49m\u001b[39m.\u001b[39;49mmanager\u001b[39m.\u001b[39;49mexpired_attribute_loader(\u001b[39mself\u001b[39;49m, toload, passive)\n\u001b[1;32m    714\u001b[0m \u001b[39m# if the loader failed, or this\u001b[39;00m\n\u001b[1;32m    715\u001b[0m \u001b[39m# instance state didn't have an identity,\u001b[39;00m\n\u001b[1;32m    716\u001b[0m \u001b[39m# the attributes still might be in the callables\u001b[39;00m\n\u001b[1;32m    717\u001b[0m \u001b[39m# dict.  ensure they are removed.\u001b[39;00m\n\u001b[1;32m    718\u001b[0m \u001b[39mself\u001b[39m\u001b[39m.\u001b[39mexpired_attributes\u001b[39m.\u001b[39mclear()\n",
      "File \u001b[0;32m~/Python_WebApp/venv/lib/python3.10/site-packages/sqlalchemy/orm/loading.py:1451\u001b[0m, in \u001b[0;36mload_scalar_attributes\u001b[0;34m(mapper, state, attribute_names, passive)\u001b[0m\n\u001b[1;32m   1443\u001b[0m         util\u001b[39m.\u001b[39mwarn_limited(\n\u001b[1;32m   1444\u001b[0m             \u001b[39m\"\u001b[39m\u001b[39mInstance \u001b[39m\u001b[39m%s\u001b[39;00m\u001b[39m to be refreshed doesn\u001b[39m\u001b[39m'\u001b[39m\u001b[39mt \u001b[39m\u001b[39m\"\u001b[39m\n\u001b[1;32m   1445\u001b[0m             \u001b[39m\"\u001b[39m\u001b[39mcontain a full primary key - can\u001b[39m\u001b[39m'\u001b[39m\u001b[39mt be refreshed \u001b[39m\u001b[39m\"\u001b[39m\n\u001b[1;32m   1446\u001b[0m             \u001b[39m\"\u001b[39m\u001b[39m(and shouldn\u001b[39m\u001b[39m'\u001b[39m\u001b[39mt be expired, either).\u001b[39m\u001b[39m\"\u001b[39m,\n\u001b[1;32m   1447\u001b[0m             state_str(state),\n\u001b[1;32m   1448\u001b[0m         )\n\u001b[1;32m   1449\u001b[0m         \u001b[39mreturn\u001b[39;00m\n\u001b[0;32m-> 1451\u001b[0m     result \u001b[39m=\u001b[39m load_on_ident(\n\u001b[1;32m   1452\u001b[0m         session,\n\u001b[1;32m   1453\u001b[0m         future\u001b[39m.\u001b[39;49mselect(mapper)\u001b[39m.\u001b[39;49mset_label_style(\n\u001b[1;32m   1454\u001b[0m             LABEL_STYLE_TABLENAME_PLUS_COL\n\u001b[1;32m   1455\u001b[0m         ),\n\u001b[1;32m   1456\u001b[0m         identity_key,\n\u001b[1;32m   1457\u001b[0m         refresh_state\u001b[39m=\u001b[39;49mstate,\n\u001b[1;32m   1458\u001b[0m         only_load_props\u001b[39m=\u001b[39;49mattribute_names,\n\u001b[1;32m   1459\u001b[0m         no_autoflush\u001b[39m=\u001b[39;49mno_autoflush,\n\u001b[1;32m   1460\u001b[0m     )\n\u001b[1;32m   1462\u001b[0m \u001b[39m# if instance is pending, a refresh operation\u001b[39;00m\n\u001b[1;32m   1463\u001b[0m \u001b[39m# may not complete (even if PK attributes are assigned)\u001b[39;00m\n\u001b[1;32m   1464\u001b[0m \u001b[39mif\u001b[39;00m has_key \u001b[39mand\u001b[39;00m result \u001b[39mis\u001b[39;00m \u001b[39mNone\u001b[39;00m:\n",
      "File \u001b[0;32m~/Python_WebApp/venv/lib/python3.10/site-packages/sqlalchemy/orm/loading.py:407\u001b[0m, in \u001b[0;36mload_on_ident\u001b[0;34m(session, statement, key, load_options, refresh_state, with_for_update, only_load_props, no_autoflush, bind_arguments, execution_options)\u001b[0m\n\u001b[1;32m    404\u001b[0m \u001b[39melse\u001b[39;00m:\n\u001b[1;32m    405\u001b[0m     ident \u001b[39m=\u001b[39m identity_token \u001b[39m=\u001b[39m \u001b[39mNone\u001b[39;00m\n\u001b[0;32m--> 407\u001b[0m \u001b[39mreturn\u001b[39;00m load_on_pk_identity(\n\u001b[1;32m    408\u001b[0m     session,\n\u001b[1;32m    409\u001b[0m     statement,\n\u001b[1;32m    410\u001b[0m     ident,\n\u001b[1;32m    411\u001b[0m     load_options\u001b[39m=\u001b[39;49mload_options,\n\u001b[1;32m    412\u001b[0m     refresh_state\u001b[39m=\u001b[39;49mrefresh_state,\n\u001b[1;32m    413\u001b[0m     with_for_update\u001b[39m=\u001b[39;49mwith_for_update,\n\u001b[1;32m    414\u001b[0m     only_load_props\u001b[39m=\u001b[39;49monly_load_props,\n\u001b[1;32m    415\u001b[0m     identity_token\u001b[39m=\u001b[39;49midentity_token,\n\u001b[1;32m    416\u001b[0m     no_autoflush\u001b[39m=\u001b[39;49mno_autoflush,\n\u001b[1;32m    417\u001b[0m     bind_arguments\u001b[39m=\u001b[39;49mbind_arguments,\n\u001b[1;32m    418\u001b[0m     execution_options\u001b[39m=\u001b[39;49mexecution_options,\n\u001b[1;32m    419\u001b[0m )\n",
      "File \u001b[0;32m~/Python_WebApp/venv/lib/python3.10/site-packages/sqlalchemy/orm/loading.py:530\u001b[0m, in \u001b[0;36mload_on_pk_identity\u001b[0;34m(session, statement, primary_key_identity, load_options, refresh_state, with_for_update, only_load_props, identity_token, no_autoflush, bind_arguments, execution_options)\u001b[0m\n\u001b[1;32m    524\u001b[0m     load_options \u001b[39m+\u001b[39m\u001b[39m=\u001b[39m {\u001b[39m\"\u001b[39m\u001b[39m_autoflush\u001b[39m\u001b[39m\"\u001b[39m: \u001b[39mFalse\u001b[39;00m}\n\u001b[1;32m    526\u001b[0m execution_options \u001b[39m=\u001b[39m util\u001b[39m.\u001b[39mEMPTY_DICT\u001b[39m.\u001b[39mmerge_with(\n\u001b[1;32m    527\u001b[0m     execution_options, {\u001b[39m\"\u001b[39m\u001b[39m_sa_orm_load_options\u001b[39m\u001b[39m\"\u001b[39m: load_options}\n\u001b[1;32m    528\u001b[0m )\n\u001b[1;32m    529\u001b[0m result \u001b[39m=\u001b[39m (\n\u001b[0;32m--> 530\u001b[0m     session\u001b[39m.\u001b[39;49mexecute(\n\u001b[1;32m    531\u001b[0m         q,\n\u001b[1;32m    532\u001b[0m         params\u001b[39m=\u001b[39;49mparams,\n\u001b[1;32m    533\u001b[0m         execution_options\u001b[39m=\u001b[39;49mexecution_options,\n\u001b[1;32m    534\u001b[0m         bind_arguments\u001b[39m=\u001b[39;49mbind_arguments,\n\u001b[1;32m    535\u001b[0m     )\n\u001b[1;32m    536\u001b[0m     \u001b[39m.\u001b[39munique()\n\u001b[1;32m    537\u001b[0m     \u001b[39m.\u001b[39mscalars()\n\u001b[1;32m    538\u001b[0m )\n\u001b[1;32m    540\u001b[0m \u001b[39mtry\u001b[39;00m:\n\u001b[1;32m    541\u001b[0m     \u001b[39mreturn\u001b[39;00m result\u001b[39m.\u001b[39mone()\n",
      "File \u001b[0;32m~/Python_WebApp/venv/lib/python3.10/site-packages/sqlalchemy/orm/session.py:1665\u001b[0m, in \u001b[0;36mSession.execute\u001b[0;34m(self, statement, params, execution_options, bind_arguments, _parent_execute_state, _add_event, **kw)\u001b[0m\n\u001b[1;32m   1659\u001b[0m execution_options \u001b[39m=\u001b[39m util\u001b[39m.\u001b[39mcoerce_to_immutabledict(execution_options)\n\u001b[1;32m   1661\u001b[0m \u001b[39mif\u001b[39;00m compile_state_cls \u001b[39mis\u001b[39;00m \u001b[39mnot\u001b[39;00m \u001b[39mNone\u001b[39;00m:\n\u001b[1;32m   1662\u001b[0m     (\n\u001b[1;32m   1663\u001b[0m         statement,\n\u001b[1;32m   1664\u001b[0m         execution_options,\n\u001b[0;32m-> 1665\u001b[0m     ) \u001b[39m=\u001b[39m compile_state_cls\u001b[39m.\u001b[39;49morm_pre_session_exec(\n\u001b[1;32m   1666\u001b[0m         \u001b[39mself\u001b[39;49m,\n\u001b[1;32m   1667\u001b[0m         statement,\n\u001b[1;32m   1668\u001b[0m         params,\n\u001b[1;32m   1669\u001b[0m         execution_options,\n\u001b[1;32m   1670\u001b[0m         bind_arguments,\n\u001b[1;32m   1671\u001b[0m         _parent_execute_state \u001b[39mis\u001b[39;49;00m \u001b[39mnot\u001b[39;49;00m \u001b[39mNone\u001b[39;49;00m,\n\u001b[1;32m   1672\u001b[0m     )\n\u001b[1;32m   1673\u001b[0m \u001b[39melse\u001b[39;00m:\n\u001b[1;32m   1674\u001b[0m     bind_arguments\u001b[39m.\u001b[39msetdefault(\u001b[39m\"\u001b[39m\u001b[39mclause\u001b[39m\u001b[39m\"\u001b[39m, statement)\n",
      "File \u001b[0;32m~/Python_WebApp/venv/lib/python3.10/site-packages/sqlalchemy/orm/context.py:312\u001b[0m, in \u001b[0;36mORMCompileState.orm_pre_session_exec\u001b[0;34m(cls, session, statement, params, execution_options, bind_arguments, is_reentrant_invoke)\u001b[0m\n\u001b[1;32m    309\u001b[0m         bind_arguments[\u001b[39m\"\u001b[39m\u001b[39mmapper\u001b[39m\u001b[39m\"\u001b[39m] \u001b[39m=\u001b[39m plugin_subject\u001b[39m.\u001b[39mmapper\n\u001b[1;32m    311\u001b[0m \u001b[39mif\u001b[39;00m load_options\u001b[39m.\u001b[39m_autoflush:\n\u001b[0;32m--> 312\u001b[0m     session\u001b[39m.\u001b[39;49m_autoflush()\n\u001b[1;32m    314\u001b[0m \u001b[39mreturn\u001b[39;00m statement, execution_options\n",
      "File \u001b[0;32m~/Python_WebApp/venv/lib/python3.10/site-packages/sqlalchemy/orm/session.py:2253\u001b[0m, in \u001b[0;36mSession._autoflush\u001b[0;34m(self)\u001b[0m\n\u001b[1;32m   2251\u001b[0m \u001b[39mif\u001b[39;00m \u001b[39mself\u001b[39m\u001b[39m.\u001b[39mautoflush \u001b[39mand\u001b[39;00m \u001b[39mnot\u001b[39;00m \u001b[39mself\u001b[39m\u001b[39m.\u001b[39m_flushing:\n\u001b[1;32m   2252\u001b[0m     \u001b[39mtry\u001b[39;00m:\n\u001b[0;32m-> 2253\u001b[0m         \u001b[39mself\u001b[39;49m\u001b[39m.\u001b[39;49mflush()\n\u001b[1;32m   2254\u001b[0m     \u001b[39mexcept\u001b[39;00m sa_exc\u001b[39m.\u001b[39mStatementError \u001b[39mas\u001b[39;00m e:\n\u001b[1;32m   2255\u001b[0m         \u001b[39m# note we are reraising StatementError as opposed to\u001b[39;00m\n\u001b[1;32m   2256\u001b[0m         \u001b[39m# raising FlushError with \"chaining\" to remain compatible\u001b[39;00m\n\u001b[1;32m   2257\u001b[0m         \u001b[39m# with code that catches StatementError, IntegrityError,\u001b[39;00m\n\u001b[1;32m   2258\u001b[0m         \u001b[39m# etc.\u001b[39;00m\n\u001b[1;32m   2259\u001b[0m         e\u001b[39m.\u001b[39madd_detail(\n\u001b[1;32m   2260\u001b[0m             \u001b[39m\"\u001b[39m\u001b[39mraised as a result of Query-invoked autoflush; \u001b[39m\u001b[39m\"\u001b[39m\n\u001b[1;32m   2261\u001b[0m             \u001b[39m\"\u001b[39m\u001b[39mconsider using a session.no_autoflush block if this \u001b[39m\u001b[39m\"\u001b[39m\n\u001b[1;32m   2262\u001b[0m             \u001b[39m\"\u001b[39m\u001b[39mflush is occurring prematurely\u001b[39m\u001b[39m\"\u001b[39m\n\u001b[1;32m   2263\u001b[0m         )\n",
      "File \u001b[0;32m~/Python_WebApp/venv/lib/python3.10/site-packages/sqlalchemy/orm/session.py:3449\u001b[0m, in \u001b[0;36mSession.flush\u001b[0;34m(self, objects)\u001b[0m\n\u001b[1;32m   3447\u001b[0m \u001b[39mtry\u001b[39;00m:\n\u001b[1;32m   3448\u001b[0m     \u001b[39mself\u001b[39m\u001b[39m.\u001b[39m_flushing \u001b[39m=\u001b[39m \u001b[39mTrue\u001b[39;00m\n\u001b[0;32m-> 3449\u001b[0m     \u001b[39mself\u001b[39;49m\u001b[39m.\u001b[39;49m_flush(objects)\n\u001b[1;32m   3450\u001b[0m \u001b[39mfinally\u001b[39;00m:\n\u001b[1;32m   3451\u001b[0m     \u001b[39mself\u001b[39m\u001b[39m.\u001b[39m_flushing \u001b[39m=\u001b[39m \u001b[39mFalse\u001b[39;00m\n",
      "File \u001b[0;32m~/Python_WebApp/venv/lib/python3.10/site-packages/sqlalchemy/orm/session.py:3545\u001b[0m, in \u001b[0;36mSession._flush\u001b[0;34m(self, objects)\u001b[0m\n\u001b[1;32m   3542\u001b[0m \u001b[39mif\u001b[39;00m \u001b[39mnot\u001b[39;00m flush_context\u001b[39m.\u001b[39mhas_work:\n\u001b[1;32m   3543\u001b[0m     \u001b[39mreturn\u001b[39;00m\n\u001b[0;32m-> 3545\u001b[0m flush_context\u001b[39m.\u001b[39mtransaction \u001b[39m=\u001b[39m transaction \u001b[39m=\u001b[39m \u001b[39mself\u001b[39;49m\u001b[39m.\u001b[39;49mbegin(_subtrans\u001b[39m=\u001b[39;49m\u001b[39mTrue\u001b[39;49;00m)\n\u001b[1;32m   3546\u001b[0m \u001b[39mtry\u001b[39;00m:\n\u001b[1;32m   3547\u001b[0m     \u001b[39mself\u001b[39m\u001b[39m.\u001b[39m_warn_on_events \u001b[39m=\u001b[39m \u001b[39mTrue\u001b[39;00m\n",
      "File \u001b[0;32m<string>:2\u001b[0m, in \u001b[0;36mbegin\u001b[0;34m(self, subtransactions, nested, _subtrans)\u001b[0m\n",
      "File \u001b[0;32m~/Python_WebApp/venv/lib/python3.10/site-packages/sqlalchemy/util/deprecations.py:375\u001b[0m, in \u001b[0;36mdeprecated_params.<locals>.decorate.<locals>.warned\u001b[0;34m(fn, *args, **kwargs)\u001b[0m\n\u001b[1;32m    368\u001b[0m     \u001b[39mif\u001b[39;00m m \u001b[39min\u001b[39;00m kwargs:\n\u001b[1;32m    369\u001b[0m         _warn_with_version(\n\u001b[1;32m    370\u001b[0m             messages[m],\n\u001b[1;32m    371\u001b[0m             versions[m],\n\u001b[1;32m    372\u001b[0m             version_warnings[m],\n\u001b[1;32m    373\u001b[0m             stacklevel\u001b[39m=\u001b[39m\u001b[39m3\u001b[39m,\n\u001b[1;32m    374\u001b[0m         )\n\u001b[0;32m--> 375\u001b[0m \u001b[39mreturn\u001b[39;00m fn(\u001b[39m*\u001b[39;49margs, \u001b[39m*\u001b[39;49m\u001b[39m*\u001b[39;49mkwargs)\n",
      "File \u001b[0;32m~/Python_WebApp/venv/lib/python3.10/site-packages/sqlalchemy/orm/session.py:1329\u001b[0m, in \u001b[0;36mSession.begin\u001b[0;34m(self, subtransactions, nested, _subtrans)\u001b[0m\n\u001b[1;32m   1327\u001b[0m \u001b[39mif\u001b[39;00m \u001b[39mself\u001b[39m\u001b[39m.\u001b[39m_transaction \u001b[39mis\u001b[39;00m \u001b[39mnot\u001b[39;00m \u001b[39mNone\u001b[39;00m:\n\u001b[1;32m   1328\u001b[0m     \u001b[39mif\u001b[39;00m subtransactions \u001b[39mor\u001b[39;00m _subtrans \u001b[39mor\u001b[39;00m nested:\n\u001b[0;32m-> 1329\u001b[0m         trans \u001b[39m=\u001b[39m \u001b[39mself\u001b[39;49m\u001b[39m.\u001b[39;49m_transaction\u001b[39m.\u001b[39;49m_begin(nested\u001b[39m=\u001b[39;49mnested)\n\u001b[1;32m   1330\u001b[0m         \u001b[39massert\u001b[39;00m \u001b[39mself\u001b[39m\u001b[39m.\u001b[39m_transaction \u001b[39mis\u001b[39;00m trans\n\u001b[1;32m   1331\u001b[0m         \u001b[39mif\u001b[39;00m nested:\n",
      "File \u001b[0;32m~/Python_WebApp/venv/lib/python3.10/site-packages/sqlalchemy/orm/session.py:632\u001b[0m, in \u001b[0;36mSessionTransaction._begin\u001b[0;34m(self, nested)\u001b[0m\n\u001b[1;32m    631\u001b[0m \u001b[39mdef\u001b[39;00m \u001b[39m_begin\u001b[39m(\u001b[39mself\u001b[39m, nested\u001b[39m=\u001b[39m\u001b[39mFalse\u001b[39;00m):\n\u001b[0;32m--> 632\u001b[0m     \u001b[39mself\u001b[39;49m\u001b[39m.\u001b[39;49m_assert_active()\n\u001b[1;32m    633\u001b[0m     \u001b[39mreturn\u001b[39;00m SessionTransaction(\u001b[39mself\u001b[39m\u001b[39m.\u001b[39msession, \u001b[39mself\u001b[39m, nested\u001b[39m=\u001b[39mnested)\n",
      "File \u001b[0;32m~/Python_WebApp/venv/lib/python3.10/site-packages/sqlalchemy/orm/session.py:604\u001b[0m, in \u001b[0;36mSessionTransaction._assert_active\u001b[0;34m(self, prepared_ok, rollback_ok, deactive_ok, closed_msg)\u001b[0m\n\u001b[1;32m    602\u001b[0m \u001b[39mif\u001b[39;00m \u001b[39mnot\u001b[39;00m deactive_ok \u001b[39mand\u001b[39;00m \u001b[39mnot\u001b[39;00m rollback_ok:\n\u001b[1;32m    603\u001b[0m     \u001b[39mif\u001b[39;00m \u001b[39mself\u001b[39m\u001b[39m.\u001b[39m_rollback_exception:\n\u001b[0;32m--> 604\u001b[0m         \u001b[39mraise\u001b[39;00m sa_exc\u001b[39m.\u001b[39mPendingRollbackError(\n\u001b[1;32m    605\u001b[0m             \u001b[39m\"\u001b[39m\u001b[39mThis Session\u001b[39m\u001b[39m'\u001b[39m\u001b[39ms transaction has been rolled back \u001b[39m\u001b[39m\"\u001b[39m\n\u001b[1;32m    606\u001b[0m             \u001b[39m\"\u001b[39m\u001b[39mdue to a previous exception during flush.\u001b[39m\u001b[39m\"\u001b[39m\n\u001b[1;32m    607\u001b[0m             \u001b[39m\"\u001b[39m\u001b[39m To begin a new transaction with this Session, \u001b[39m\u001b[39m\"\u001b[39m\n\u001b[1;32m    608\u001b[0m             \u001b[39m\"\u001b[39m\u001b[39mfirst issue Session.rollback().\u001b[39m\u001b[39m\"\u001b[39m\n\u001b[1;32m    609\u001b[0m             \u001b[39m\"\u001b[39m\u001b[39m Original exception was: \u001b[39m\u001b[39m%s\u001b[39;00m\u001b[39m\"\u001b[39m\n\u001b[1;32m    610\u001b[0m             \u001b[39m%\u001b[39m \u001b[39mself\u001b[39m\u001b[39m.\u001b[39m_rollback_exception,\n\u001b[1;32m    611\u001b[0m             code\u001b[39m=\u001b[39m\u001b[39m\"\u001b[39m\u001b[39m7s2a\u001b[39m\u001b[39m\"\u001b[39m,\n\u001b[1;32m    612\u001b[0m         )\n\u001b[1;32m    613\u001b[0m     \u001b[39melif\u001b[39;00m \u001b[39mnot\u001b[39;00m deactive_ok:\n\u001b[1;32m    614\u001b[0m         \u001b[39mraise\u001b[39;00m sa_exc\u001b[39m.\u001b[39mInvalidRequestError(\n\u001b[1;32m    615\u001b[0m             \u001b[39m\"\u001b[39m\u001b[39mThis session is in \u001b[39m\u001b[39m'\u001b[39m\u001b[39minactive\u001b[39m\u001b[39m'\u001b[39m\u001b[39m state, due to the \u001b[39m\u001b[39m\"\u001b[39m\n\u001b[1;32m    616\u001b[0m             \u001b[39m\"\u001b[39m\u001b[39mSQL transaction being rolled back; no further \u001b[39m\u001b[39m\"\u001b[39m\n\u001b[1;32m    617\u001b[0m             \u001b[39m\"\u001b[39m\u001b[39mSQL can be emitted within this transaction.\u001b[39m\u001b[39m\"\u001b[39m\n\u001b[1;32m    618\u001b[0m         )\n",
      "\u001b[0;31mPendingRollbackError\u001b[0m: This Session's transaction has been rolled back due to a previous exception during flush. To begin a new transaction with this Session, first issue Session.rollback(). Original exception was: (sqlite3.IntegrityError) UNIQUE constraint failed: person.id\n[SQL: INSERT INTO person (id, name, size) VALUES (?, ?, ?)]\n[parameters: (4, 'from_model', 100.0)]\n(Background on this error at: https://sqlalche.me/e/14/gkpj) (Background on this error at: https://sqlalche.me/e/14/7s2a)"
     ]
    }
   ],
   "source": [
    "for person in persons:\n",
    "    print(f'{person.id} name:{person.name} size:{person.size}')"
   ]
  },
  {
   "cell_type": "code",
   "execution_count": null,
   "metadata": {},
   "outputs": [],
   "source": []
  }
 ],
 "metadata": {
  "kernelspec": {
   "display_name": "venv",
   "language": "python",
   "name": "python3"
  },
  "language_info": {
   "codemirror_mode": {
    "name": "ipython",
    "version": 3
   },
   "file_extension": ".py",
   "mimetype": "text/x-python",
   "name": "python",
   "nbconvert_exporter": "python",
   "pygments_lexer": "ipython3",
   "version": "3.10.6"
  },
  "orig_nbformat": 4
 },
 "nbformat": 4,
 "nbformat_minor": 2
}
